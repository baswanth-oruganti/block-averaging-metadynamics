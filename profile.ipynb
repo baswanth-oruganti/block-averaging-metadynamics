{
 "cells": [
  {
   "cell_type": "markdown",
   "metadata": {},
   "source": [
    "## Import Relevant Modules"
   ]
  },
  {
   "cell_type": "code",
   "execution_count": 353,
   "metadata": {},
   "outputs": [],
   "source": [
    "import math\n",
    "import sys\n",
    "import numpy as np\n",
    "import pandas as pd\n",
    "import matplotlib.pyplot as plt\n",
    "import seaborn as sns"
   ]
  },
  {
   "cell_type": "markdown",
   "metadata": {},
   "source": [
    "## Specify all relevant constants"
   ]
  },
  {
   "cell_type": "code",
   "execution_count": 354,
   "metadata": {},
   "outputs": [],
   "source": [
    "kbt=2.494339\n",
    "minS=1.0\n",
    "maxS=112.0\n",
    "nbin=20"
   ]
  },
  {
   "cell_type": "code",
   "execution_count": 355,
   "metadata": {},
   "outputs": [
    {
     "data": {
      "text/html": [
       "<div>\n",
       "<style scoped>\n",
       "    .dataframe tbody tr th:only-of-type {\n",
       "        vertical-align: middle;\n",
       "    }\n",
       "\n",
       "    .dataframe tbody tr th {\n",
       "        vertical-align: top;\n",
       "    }\n",
       "\n",
       "    .dataframe thead th {\n",
       "        text-align: right;\n",
       "    }\n",
       "</style>\n",
       "<table border=\"1\" class=\"dataframe\">\n",
       "  <thead>\n",
       "    <tr style=\"text-align: right;\">\n",
       "      <th></th>\n",
       "      <th>s(R)</th>\n",
       "      <th>z(R)</th>\n",
       "      <th>bias</th>\n",
       "    </tr>\n",
       "  </thead>\n",
       "  <tbody>\n",
       "    <tr>\n",
       "      <th>0</th>\n",
       "      <td>1.90</td>\n",
       "      <td>0.011533</td>\n",
       "      <td>149.325585</td>\n",
       "    </tr>\n",
       "    <tr>\n",
       "      <th>1</th>\n",
       "      <td>1.82</td>\n",
       "      <td>0.011707</td>\n",
       "      <td>148.022618</td>\n",
       "    </tr>\n",
       "    <tr>\n",
       "      <th>2</th>\n",
       "      <td>1.72</td>\n",
       "      <td>0.012545</td>\n",
       "      <td>147.008204</td>\n",
       "    </tr>\n",
       "    <tr>\n",
       "      <th>3</th>\n",
       "      <td>1.93</td>\n",
       "      <td>0.009537</td>\n",
       "      <td>143.402185</td>\n",
       "    </tr>\n",
       "    <tr>\n",
       "      <th>4</th>\n",
       "      <td>1.82</td>\n",
       "      <td>0.009520</td>\n",
       "      <td>141.415963</td>\n",
       "    </tr>\n",
       "    <tr>\n",
       "      <th>...</th>\n",
       "      <td>...</td>\n",
       "      <td>...</td>\n",
       "      <td>...</td>\n",
       "    </tr>\n",
       "    <tr>\n",
       "      <th>13329</th>\n",
       "      <td>90.42</td>\n",
       "      <td>0.026455</td>\n",
       "      <td>199.897369</td>\n",
       "    </tr>\n",
       "    <tr>\n",
       "      <th>13330</th>\n",
       "      <td>92.33</td>\n",
       "      <td>0.025622</td>\n",
       "      <td>198.335748</td>\n",
       "    </tr>\n",
       "    <tr>\n",
       "      <th>13331</th>\n",
       "      <td>94.45</td>\n",
       "      <td>0.024892</td>\n",
       "      <td>194.978573</td>\n",
       "    </tr>\n",
       "    <tr>\n",
       "      <th>13332</th>\n",
       "      <td>95.89</td>\n",
       "      <td>0.025026</td>\n",
       "      <td>192.737358</td>\n",
       "    </tr>\n",
       "    <tr>\n",
       "      <th>13333</th>\n",
       "      <td>98.01</td>\n",
       "      <td>0.026086</td>\n",
       "      <td>190.076079</td>\n",
       "    </tr>\n",
       "  </tbody>\n",
       "</table>\n",
       "<p>13334 rows × 3 columns</p>\n",
       "</div>"
      ],
      "text/plain": [
       "        s(R)      z(R)        bias\n",
       "0       1.90  0.011533  149.325585\n",
       "1       1.82  0.011707  148.022618\n",
       "2       1.72  0.012545  147.008204\n",
       "3       1.93  0.009537  143.402185\n",
       "4       1.82  0.009520  141.415963\n",
       "...      ...       ...         ...\n",
       "13329  90.42  0.026455  199.897369\n",
       "13330  92.33  0.025622  198.335748\n",
       "13331  94.45  0.024892  194.978573\n",
       "13332  95.89  0.025026  192.737358\n",
       "13333  98.01  0.026086  190.076079\n",
       "\n",
       "[13334 rows x 3 columns]"
      ]
     },
     "execution_count": 355,
     "metadata": {},
     "output_type": "execute_result"
    }
   ],
   "source": [
    "data=pd.read_csv(\"COLVAR\",sep=\"\\s+\", header=None, skiprows=1,usecols=[1,2,3]) \n",
    "data.columns=['s(R)','z(R)','bias']\n",
    "data['s(R)']=data['s(R)'].round(2)\n",
    "data"
   ]
  },
  {
   "cell_type": "markdown",
   "metadata": {},
   "source": [
    "## Calculate Maximum bias"
   ]
  },
  {
   "cell_type": "code",
   "execution_count": 356,
   "metadata": {},
   "outputs": [],
   "source": [
    "bmax=data['bias'].max()"
   ]
  },
  {
   "cell_type": "markdown",
   "metadata": {},
   "source": [
    "# Calculate Boltzmann weights and write them to a file named \"sR.weight\""
   ]
  },
  {
   "cell_type": "code",
   "execution_count": 357,
   "metadata": {},
   "outputs": [],
   "source": [
    "data['weights']=np.exp((data['bias']-bmax)/kbt)\n",
    "data.to_csv(\"sR.weight\",index=False,sep=\"\\t\",columns=['s(R)','weights'])"
   ]
  },
  {
   "cell_type": "markdown",
   "metadata": {},
   "source": [
    "## Calculate Free energy and make min-to-zero"
   ]
  },
  {
   "cell_type": "code",
   "execution_count": 358,
   "metadata": {},
   "outputs": [],
   "source": [
    "data['energy']=-data['bias'] # free-energy is negative of bias potential\n",
    "min_energy=data['energy'].min() # minimum bias\n",
    "data['energy']=data['energy']-min_energy # make minimum bias zero"
   ]
  },
  {
   "cell_type": "markdown",
   "metadata": {},
   "source": [
    "## Binning of data using cut: Create 20 equal-sized bins"
   ]
  },
  {
   "cell_type": "code",
   "execution_count": 359,
   "metadata": {},
   "outputs": [
    {
     "data": {
      "text/html": [
       "<div>\n",
       "<style scoped>\n",
       "    .dataframe tbody tr th:only-of-type {\n",
       "        vertical-align: middle;\n",
       "    }\n",
       "\n",
       "    .dataframe tbody tr th {\n",
       "        vertical-align: top;\n",
       "    }\n",
       "\n",
       "    .dataframe thead th {\n",
       "        text-align: right;\n",
       "    }\n",
       "</style>\n",
       "<table border=\"1\" class=\"dataframe\">\n",
       "  <thead>\n",
       "    <tr style=\"text-align: right;\">\n",
       "      <th></th>\n",
       "      <th>s(R)</th>\n",
       "      <th>z(R)</th>\n",
       "      <th>bias</th>\n",
       "      <th>weights</th>\n",
       "      <th>energy</th>\n",
       "      <th>bins</th>\n",
       "    </tr>\n",
       "  </thead>\n",
       "  <tbody>\n",
       "    <tr>\n",
       "      <th>0</th>\n",
       "      <td>1.90</td>\n",
       "      <td>0.011533</td>\n",
       "      <td>149.325585</td>\n",
       "      <td>3.688909e-12</td>\n",
       "      <td>65.665196</td>\n",
       "      <td>0</td>\n",
       "    </tr>\n",
       "    <tr>\n",
       "      <th>1</th>\n",
       "      <td>1.82</td>\n",
       "      <td>0.011707</td>\n",
       "      <td>148.022618</td>\n",
       "      <td>2.187942e-12</td>\n",
       "      <td>66.968163</td>\n",
       "      <td>0</td>\n",
       "    </tr>\n",
       "    <tr>\n",
       "      <th>2</th>\n",
       "      <td>1.72</td>\n",
       "      <td>0.012545</td>\n",
       "      <td>147.008204</td>\n",
       "      <td>1.456847e-12</td>\n",
       "      <td>67.982577</td>\n",
       "      <td>0</td>\n",
       "    </tr>\n",
       "    <tr>\n",
       "      <th>3</th>\n",
       "      <td>1.93</td>\n",
       "      <td>0.009537</td>\n",
       "      <td>143.402185</td>\n",
       "      <td>3.432121e-13</td>\n",
       "      <td>71.588596</td>\n",
       "      <td>0</td>\n",
       "    </tr>\n",
       "    <tr>\n",
       "      <th>4</th>\n",
       "      <td>1.82</td>\n",
       "      <td>0.009520</td>\n",
       "      <td>141.415963</td>\n",
       "      <td>1.547881e-13</td>\n",
       "      <td>73.574818</td>\n",
       "      <td>0</td>\n",
       "    </tr>\n",
       "    <tr>\n",
       "      <th>...</th>\n",
       "      <td>...</td>\n",
       "      <td>...</td>\n",
       "      <td>...</td>\n",
       "      <td>...</td>\n",
       "      <td>...</td>\n",
       "      <td>...</td>\n",
       "    </tr>\n",
       "    <tr>\n",
       "      <th>13329</th>\n",
       "      <td>90.42</td>\n",
       "      <td>0.026455</td>\n",
       "      <td>199.897369</td>\n",
       "      <td>2.355348e-03</td>\n",
       "      <td>15.093412</td>\n",
       "      <td>16</td>\n",
       "    </tr>\n",
       "    <tr>\n",
       "      <th>13330</th>\n",
       "      <td>92.33</td>\n",
       "      <td>0.025622</td>\n",
       "      <td>198.335748</td>\n",
       "      <td>1.259384e-03</td>\n",
       "      <td>16.655033</td>\n",
       "      <td>16</td>\n",
       "    </tr>\n",
       "    <tr>\n",
       "      <th>13331</th>\n",
       "      <td>94.45</td>\n",
       "      <td>0.024892</td>\n",
       "      <td>194.978573</td>\n",
       "      <td>3.278185e-04</td>\n",
       "      <td>20.012208</td>\n",
       "      <td>16</td>\n",
       "    </tr>\n",
       "    <tr>\n",
       "      <th>13332</th>\n",
       "      <td>95.89</td>\n",
       "      <td>0.025026</td>\n",
       "      <td>192.737358</td>\n",
       "      <td>1.334784e-04</td>\n",
       "      <td>22.253423</td>\n",
       "      <td>17</td>\n",
       "    </tr>\n",
       "    <tr>\n",
       "      <th>13333</th>\n",
       "      <td>98.01</td>\n",
       "      <td>0.026086</td>\n",
       "      <td>190.076079</td>\n",
       "      <td>4.592510e-05</td>\n",
       "      <td>24.914702</td>\n",
       "      <td>17</td>\n",
       "    </tr>\n",
       "  </tbody>\n",
       "</table>\n",
       "<p>13334 rows × 6 columns</p>\n",
       "</div>"
      ],
      "text/plain": [
       "        s(R)      z(R)        bias       weights     energy bins\n",
       "0       1.90  0.011533  149.325585  3.688909e-12  65.665196    0\n",
       "1       1.82  0.011707  148.022618  2.187942e-12  66.968163    0\n",
       "2       1.72  0.012545  147.008204  1.456847e-12  67.982577    0\n",
       "3       1.93  0.009537  143.402185  3.432121e-13  71.588596    0\n",
       "4       1.82  0.009520  141.415963  1.547881e-13  73.574818    0\n",
       "...      ...       ...         ...           ...        ...  ...\n",
       "13329  90.42  0.026455  199.897369  2.355348e-03  15.093412   16\n",
       "13330  92.33  0.025622  198.335748  1.259384e-03  16.655033   16\n",
       "13331  94.45  0.024892  194.978573  3.278185e-04  20.012208   16\n",
       "13332  95.89  0.025026  192.737358  1.334784e-04  22.253423   17\n",
       "13333  98.01  0.026086  190.076079  4.592510e-05  24.914702   17\n",
       "\n",
       "[13334 rows x 6 columns]"
      ]
     },
     "execution_count": 359,
     "metadata": {},
     "output_type": "execute_result"
    }
   ],
   "source": [
    "data['bins']=pd.cut(data['s(R)'], bins=nbin,labels=[i for i in range(20)])\n",
    "data"
   ]
  },
  {
   "cell_type": "code",
   "execution_count": 360,
   "metadata": {},
   "outputs": [
    {
     "data": {
      "text/plain": [
       "[0, 1, 2, 3, 4, ..., 15, 16, 17, 18, 19]\n",
       "Length: 20\n",
       "Categories (20, int64): [0 < 1 < 2 < 3 ... 16 < 17 < 18 < 19]"
      ]
     },
     "execution_count": 360,
     "metadata": {},
     "output_type": "execute_result"
    }
   ],
   "source": [
    "data['bins'].unique()"
   ]
  },
  {
   "cell_type": "markdown",
   "metadata": {},
   "source": [
    "## Calculate bin width"
   ]
  },
  {
   "cell_type": "code",
   "execution_count": 361,
   "metadata": {},
   "outputs": [
    {
     "data": {
      "text/plain": [
       "5.84"
      ]
     },
     "execution_count": 361,
     "metadata": {},
     "output_type": "execute_result"
    }
   ],
   "source": [
    "bin_width = round((maxS-minS)/float(nbin-1),2)\n",
    "bin_width"
   ]
  },
  {
   "cell_type": "markdown",
   "metadata": {},
   "source": [
    "## Calculate mean within each bin"
   ]
  },
  {
   "cell_type": "code",
   "execution_count": 362,
   "metadata": {},
   "outputs": [
    {
     "data": {
      "text/html": [
       "<div>\n",
       "<style scoped>\n",
       "    .dataframe tbody tr th:only-of-type {\n",
       "        vertical-align: middle;\n",
       "    }\n",
       "\n",
       "    .dataframe tbody tr th {\n",
       "        vertical-align: top;\n",
       "    }\n",
       "\n",
       "    .dataframe thead th {\n",
       "        text-align: right;\n",
       "    }\n",
       "</style>\n",
       "<table border=\"1\" class=\"dataframe\">\n",
       "  <thead>\n",
       "    <tr style=\"text-align: right;\">\n",
       "      <th></th>\n",
       "      <th>s(R)</th>\n",
       "      <th>norm s(R)</th>\n",
       "      <th>energy</th>\n",
       "    </tr>\n",
       "  </thead>\n",
       "  <tbody>\n",
       "    <tr>\n",
       "      <th>0</th>\n",
       "      <td>1.00</td>\n",
       "      <td>0.00</td>\n",
       "      <td>9.06</td>\n",
       "    </tr>\n",
       "    <tr>\n",
       "      <th>1</th>\n",
       "      <td>6.84</td>\n",
       "      <td>0.05</td>\n",
       "      <td>5.49</td>\n",
       "    </tr>\n",
       "    <tr>\n",
       "      <th>2</th>\n",
       "      <td>12.68</td>\n",
       "      <td>0.10</td>\n",
       "      <td>5.14</td>\n",
       "    </tr>\n",
       "    <tr>\n",
       "      <th>3</th>\n",
       "      <td>18.52</td>\n",
       "      <td>0.16</td>\n",
       "      <td>6.42</td>\n",
       "    </tr>\n",
       "    <tr>\n",
       "      <th>4</th>\n",
       "      <td>24.36</td>\n",
       "      <td>0.21</td>\n",
       "      <td>9.47</td>\n",
       "    </tr>\n",
       "    <tr>\n",
       "      <th>5</th>\n",
       "      <td>30.20</td>\n",
       "      <td>0.26</td>\n",
       "      <td>11.85</td>\n",
       "    </tr>\n",
       "    <tr>\n",
       "      <th>6</th>\n",
       "      <td>36.04</td>\n",
       "      <td>0.31</td>\n",
       "      <td>19.90</td>\n",
       "    </tr>\n",
       "    <tr>\n",
       "      <th>7</th>\n",
       "      <td>41.88</td>\n",
       "      <td>0.36</td>\n",
       "      <td>17.28</td>\n",
       "    </tr>\n",
       "    <tr>\n",
       "      <th>8</th>\n",
       "      <td>47.72</td>\n",
       "      <td>0.41</td>\n",
       "      <td>13.47</td>\n",
       "    </tr>\n",
       "    <tr>\n",
       "      <th>9</th>\n",
       "      <td>53.56</td>\n",
       "      <td>0.47</td>\n",
       "      <td>17.57</td>\n",
       "    </tr>\n",
       "    <tr>\n",
       "      <th>10</th>\n",
       "      <td>59.40</td>\n",
       "      <td>0.52</td>\n",
       "      <td>16.22</td>\n",
       "    </tr>\n",
       "    <tr>\n",
       "      <th>11</th>\n",
       "      <td>65.24</td>\n",
       "      <td>0.57</td>\n",
       "      <td>10.44</td>\n",
       "    </tr>\n",
       "    <tr>\n",
       "      <th>12</th>\n",
       "      <td>71.08</td>\n",
       "      <td>0.62</td>\n",
       "      <td>9.34</td>\n",
       "    </tr>\n",
       "    <tr>\n",
       "      <th>13</th>\n",
       "      <td>76.92</td>\n",
       "      <td>0.67</td>\n",
       "      <td>10.41</td>\n",
       "    </tr>\n",
       "    <tr>\n",
       "      <th>14</th>\n",
       "      <td>82.76</td>\n",
       "      <td>0.72</td>\n",
       "      <td>7.16</td>\n",
       "    </tr>\n",
       "    <tr>\n",
       "      <th>15</th>\n",
       "      <td>88.60</td>\n",
       "      <td>0.78</td>\n",
       "      <td>6.69</td>\n",
       "    </tr>\n",
       "    <tr>\n",
       "      <th>16</th>\n",
       "      <td>94.44</td>\n",
       "      <td>0.83</td>\n",
       "      <td>7.04</td>\n",
       "    </tr>\n",
       "    <tr>\n",
       "      <th>17</th>\n",
       "      <td>100.28</td>\n",
       "      <td>0.88</td>\n",
       "      <td>7.90</td>\n",
       "    </tr>\n",
       "    <tr>\n",
       "      <th>18</th>\n",
       "      <td>106.12</td>\n",
       "      <td>0.93</td>\n",
       "      <td>8.94</td>\n",
       "    </tr>\n",
       "    <tr>\n",
       "      <th>19</th>\n",
       "      <td>111.96</td>\n",
       "      <td>0.98</td>\n",
       "      <td>10.77</td>\n",
       "    </tr>\n",
       "  </tbody>\n",
       "</table>\n",
       "</div>"
      ],
      "text/plain": [
       "      s(R)  norm s(R)  energy\n",
       "0     1.00       0.00    9.06\n",
       "1     6.84       0.05    5.49\n",
       "2    12.68       0.10    5.14\n",
       "3    18.52       0.16    6.42\n",
       "4    24.36       0.21    9.47\n",
       "5    30.20       0.26   11.85\n",
       "6    36.04       0.31   19.90\n",
       "7    41.88       0.36   17.28\n",
       "8    47.72       0.41   13.47\n",
       "9    53.56       0.47   17.57\n",
       "10   59.40       0.52   16.22\n",
       "11   65.24       0.57   10.44\n",
       "12   71.08       0.62    9.34\n",
       "13   76.92       0.67   10.41\n",
       "14   82.76       0.72    7.16\n",
       "15   88.60       0.78    6.69\n",
       "16   94.44       0.83    7.04\n",
       "17  100.28       0.88    7.90\n",
       "18  106.12       0.93    8.94\n",
       "19  111.96       0.98   10.77"
      ]
     },
     "execution_count": 362,
     "metadata": {},
     "output_type": "execute_result"
    }
   ],
   "source": [
    "maxS_actual=114\n",
    "free_energy=data.groupby('bins')['energy'].mean()\n",
    "sR_series = pd.Series(dtype=float,data=[(minS + (float(i) * bin_width)) for i in range(len(bin_list))])\n",
    "data2=pd.DataFrame()\n",
    "data2['s(R)']=sR_series\n",
    "data2['norm s(R)']=((data2['s(R)']-data2['s(R)'].min())/(maxS_actual-data2['s(R)'].min())).round(2)\n",
    "data2['energy']=(free_energy/4.184).round(2)\n",
    "data2"
   ]
  },
  {
   "cell_type": "markdown",
   "metadata": {},
   "source": [
    "## Plot free energy vs normalized s(R)"
   ]
  },
  {
   "cell_type": "code",
   "execution_count": 363,
   "metadata": {},
   "outputs": [
    {
     "data": {
      "text/plain": [
       "[<matplotlib.lines.Line2D at 0x7f53038676d0>]"
      ]
     },
     "execution_count": 363,
     "metadata": {},
     "output_type": "execute_result"
    },
    {
     "data": {
      "image/png": "[encoded data removed]",
      "text/plain": [
       "<Figure size 432x288 with 1 Axes>"
      ]
     },
     "metadata": {
      "needs_background": "light"
     },
     "output_type": "display_data"
    }
   ],
   "source": [
    "plt.plot(data2['norm s(R)'],data2['energy'])"
   ]
  }
 ],
 "metadata": {
  "kernelspec": {
   "display_name": "Python 3",
   "language": "python",
   "name": "python3"
  },
  "language_info": {
   "codemirror_mode": {
    "name": "ipython",
    "version": 3
   },
   "file_extension": ".py",
   "mimetype": "text/x-python",
   "name": "python",
   "nbconvert_exporter": "python",
   "pygments_lexer": "ipython3",
   "version": "3.7.9"
  }
 },
 "nbformat": 4,
 "nbformat_minor": 2
}

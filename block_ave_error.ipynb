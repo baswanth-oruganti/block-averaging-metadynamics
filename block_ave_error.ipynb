{
 "cells": [
  {
   "cell_type": "code",
   "execution_count": 38,
   "id": "transsexual-gender",
   "metadata": {},
   "outputs": [],
   "source": [
    "import math\n",
    "import sys\n",
    "import numpy as np\n",
    "import pandas as pd\n",
    "import matplotlib.pyplot as plt\n",
    "import seaborn as sns"
   ]
  },
  {
   "cell_type": "code",
   "execution_count": 39,
   "id": "thick-hepatitis",
   "metadata": {},
   "outputs": [],
   "source": [
    "kbt=2.494339\n",
    "minS=1.0\n",
    "maxS=112.0\n",
    "nbin=20"
   ]
  },
  {
   "cell_type": "code",
   "execution_count": 40,
   "id": "detected-empty",
   "metadata": {},
   "outputs": [
    {
     "data": {
      "text/html": [
       "<div>\n",
       "<style scoped>\n",
       "    .dataframe tbody tr th:only-of-type {\n",
       "        vertical-align: middle;\n",
       "    }\n",
       "\n",
       "    .dataframe tbody tr th {\n",
       "        vertical-align: top;\n",
       "    }\n",
       "\n",
       "    .dataframe thead th {\n",
       "        text-align: right;\n",
       "    }\n",
       "</style>\n",
       "<table border=\"1\" class=\"dataframe\">\n",
       "  <thead>\n",
       "    <tr style=\"text-align: right;\">\n",
       "      <th></th>\n",
       "      <th>s(R)</th>\n",
       "      <th>z(R)</th>\n",
       "      <th>bias</th>\n",
       "    </tr>\n",
       "  </thead>\n",
       "  <tbody>\n",
       "    <tr>\n",
       "      <th>0</th>\n",
       "      <td>1.90</td>\n",
       "      <td>0.011533</td>\n",
       "      <td>149.325585</td>\n",
       "    </tr>\n",
       "    <tr>\n",
       "      <th>1</th>\n",
       "      <td>1.82</td>\n",
       "      <td>0.011707</td>\n",
       "      <td>148.022618</td>\n",
       "    </tr>\n",
       "    <tr>\n",
       "      <th>2</th>\n",
       "      <td>1.72</td>\n",
       "      <td>0.012545</td>\n",
       "      <td>147.008204</td>\n",
       "    </tr>\n",
       "    <tr>\n",
       "      <th>3</th>\n",
       "      <td>1.93</td>\n",
       "      <td>0.009537</td>\n",
       "      <td>143.402185</td>\n",
       "    </tr>\n",
       "    <tr>\n",
       "      <th>4</th>\n",
       "      <td>1.82</td>\n",
       "      <td>0.009520</td>\n",
       "      <td>141.415963</td>\n",
       "    </tr>\n",
       "    <tr>\n",
       "      <th>...</th>\n",
       "      <td>...</td>\n",
       "      <td>...</td>\n",
       "      <td>...</td>\n",
       "    </tr>\n",
       "    <tr>\n",
       "      <th>13329</th>\n",
       "      <td>90.42</td>\n",
       "      <td>0.026455</td>\n",
       "      <td>199.897369</td>\n",
       "    </tr>\n",
       "    <tr>\n",
       "      <th>13330</th>\n",
       "      <td>92.33</td>\n",
       "      <td>0.025622</td>\n",
       "      <td>198.335748</td>\n",
       "    </tr>\n",
       "    <tr>\n",
       "      <th>13331</th>\n",
       "      <td>94.45</td>\n",
       "      <td>0.024892</td>\n",
       "      <td>194.978573</td>\n",
       "    </tr>\n",
       "    <tr>\n",
       "      <th>13332</th>\n",
       "      <td>95.89</td>\n",
       "      <td>0.025026</td>\n",
       "      <td>192.737358</td>\n",
       "    </tr>\n",
       "    <tr>\n",
       "      <th>13333</th>\n",
       "      <td>98.01</td>\n",
       "      <td>0.026086</td>\n",
       "      <td>190.076079</td>\n",
       "    </tr>\n",
       "  </tbody>\n",
       "</table>\n",
       "<p>13334 rows × 3 columns</p>\n",
       "</div>"
      ],
      "text/plain": [
       "        s(R)      z(R)        bias\n",
       "0       1.90  0.011533  149.325585\n",
       "1       1.82  0.011707  148.022618\n",
       "2       1.72  0.012545  147.008204\n",
       "3       1.93  0.009537  143.402185\n",
       "4       1.82  0.009520  141.415963\n",
       "...      ...       ...         ...\n",
       "13329  90.42  0.026455  199.897369\n",
       "13330  92.33  0.025622  198.335748\n",
       "13331  94.45  0.024892  194.978573\n",
       "13332  95.89  0.025026  192.737358\n",
       "13333  98.01  0.026086  190.076079\n",
       "\n",
       "[13334 rows x 3 columns]"
      ]
     },
     "execution_count": 40,
     "metadata": {},
     "output_type": "execute_result"
    }
   ],
   "source": [
    "data=pd.read_csv(\"COLVAR\",sep=\"\\s+\", header=None, skiprows=1,usecols=[1,2,3]) \n",
    "data.columns=['s(R)','z(R)','bias']\n",
    "data['s(R)']=data['s(R)'].round(2)\n",
    "data"
   ]
  },
  {
   "cell_type": "markdown",
   "id": "protective-lewis",
   "metadata": {},
   "source": [
    "## Calculate Maximum bias"
   ]
  },
  {
   "cell_type": "code",
   "execution_count": 41,
   "id": "modern-questionnaire",
   "metadata": {},
   "outputs": [],
   "source": [
    "bmax=data['bias'].max()"
   ]
  },
  {
   "cell_type": "markdown",
   "id": "stuffed-consequence",
   "metadata": {},
   "source": [
    "# Calculate Boltzmann weights and write them to a file named \"sR.weight\""
   ]
  },
  {
   "cell_type": "code",
   "execution_count": 42,
   "id": "colored-boutique",
   "metadata": {},
   "outputs": [],
   "source": [
    "data['weights']=np.exp((data['bias']-bmax)/kbt)\n",
    "data.to_csv(\"sR.weight\",index=False,sep=\"\\t\",columns=['s(R)','weights'])"
   ]
  },
  {
   "cell_type": "markdown",
   "id": "varying-organization",
   "metadata": {},
   "source": [
    "## Calculate bin width"
   ]
  },
  {
   "cell_type": "code",
   "execution_count": 43,
   "id": "metropolitan-relief",
   "metadata": {},
   "outputs": [
    {
     "data": {
      "text/plain": [
       "5.84"
      ]
     },
     "execution_count": 43,
     "metadata": {},
     "output_type": "execute_result"
    }
   ],
   "source": [
    "bin_width = round((maxS-minS)/float(nbin-1),2)\n",
    "bin_width"
   ]
  },
  {
   "cell_type": "markdown",
   "id": "passing-leader",
   "metadata": {},
   "source": [
    "# Block averaging"
   ]
  },
  {
   "cell_type": "markdown",
   "id": "copyrighted-disclaimer",
   "metadata": {},
   "source": [
    "## Binning of data using cut: Create 20 equal-sized bins"
   ]
  },
  {
   "cell_type": "code",
   "execution_count": 44,
   "id": "induced-chemistry",
   "metadata": {},
   "outputs": [
    {
     "data": {
      "text/html": [
       "<div>\n",
       "<style scoped>\n",
       "    .dataframe tbody tr th:only-of-type {\n",
       "        vertical-align: middle;\n",
       "    }\n",
       "\n",
       "    .dataframe tbody tr th {\n",
       "        vertical-align: top;\n",
       "    }\n",
       "\n",
       "    .dataframe thead th {\n",
       "        text-align: right;\n",
       "    }\n",
       "</style>\n",
       "<table border=\"1\" class=\"dataframe\">\n",
       "  <thead>\n",
       "    <tr style=\"text-align: right;\">\n",
       "      <th></th>\n",
       "      <th>s(R)</th>\n",
       "      <th>weights</th>\n",
       "      <th>bin_index</th>\n",
       "    </tr>\n",
       "  </thead>\n",
       "  <tbody>\n",
       "    <tr>\n",
       "      <th>0</th>\n",
       "      <td>1.90</td>\n",
       "      <td>3.688909e-12</td>\n",
       "      <td>0</td>\n",
       "    </tr>\n",
       "    <tr>\n",
       "      <th>1</th>\n",
       "      <td>1.82</td>\n",
       "      <td>2.187942e-12</td>\n",
       "      <td>0</td>\n",
       "    </tr>\n",
       "    <tr>\n",
       "      <th>2</th>\n",
       "      <td>1.72</td>\n",
       "      <td>1.456847e-12</td>\n",
       "      <td>0</td>\n",
       "    </tr>\n",
       "    <tr>\n",
       "      <th>3</th>\n",
       "      <td>1.93</td>\n",
       "      <td>3.432121e-13</td>\n",
       "      <td>0</td>\n",
       "    </tr>\n",
       "    <tr>\n",
       "      <th>4</th>\n",
       "      <td>1.82</td>\n",
       "      <td>1.547881e-13</td>\n",
       "      <td>0</td>\n",
       "    </tr>\n",
       "    <tr>\n",
       "      <th>...</th>\n",
       "      <td>...</td>\n",
       "      <td>...</td>\n",
       "      <td>...</td>\n",
       "    </tr>\n",
       "    <tr>\n",
       "      <th>13329</th>\n",
       "      <td>90.42</td>\n",
       "      <td>2.355348e-03</td>\n",
       "      <td>16</td>\n",
       "    </tr>\n",
       "    <tr>\n",
       "      <th>13330</th>\n",
       "      <td>92.33</td>\n",
       "      <td>1.259384e-03</td>\n",
       "      <td>16</td>\n",
       "    </tr>\n",
       "    <tr>\n",
       "      <th>13331</th>\n",
       "      <td>94.45</td>\n",
       "      <td>3.278185e-04</td>\n",
       "      <td>16</td>\n",
       "    </tr>\n",
       "    <tr>\n",
       "      <th>13332</th>\n",
       "      <td>95.89</td>\n",
       "      <td>1.334784e-04</td>\n",
       "      <td>17</td>\n",
       "    </tr>\n",
       "    <tr>\n",
       "      <th>13333</th>\n",
       "      <td>98.01</td>\n",
       "      <td>4.592510e-05</td>\n",
       "      <td>17</td>\n",
       "    </tr>\n",
       "  </tbody>\n",
       "</table>\n",
       "<p>13334 rows × 3 columns</p>\n",
       "</div>"
      ],
      "text/plain": [
       "        s(R)       weights bin_index\n",
       "0       1.90  3.688909e-12         0\n",
       "1       1.82  2.187942e-12         0\n",
       "2       1.72  1.456847e-12         0\n",
       "3       1.93  3.432121e-13         0\n",
       "4       1.82  1.547881e-13         0\n",
       "...      ...           ...       ...\n",
       "13329  90.42  2.355348e-03        16\n",
       "13330  92.33  1.259384e-03        16\n",
       "13331  94.45  3.278185e-04        16\n",
       "13332  95.89  1.334784e-04        17\n",
       "13333  98.01  4.592510e-05        17\n",
       "\n",
       "[13334 rows x 3 columns]"
      ]
     },
     "execution_count": 44,
     "metadata": {},
     "output_type": "execute_result"
    }
   ],
   "source": [
    "weightdf=pd.read_csv('sR.weight',sep=\"\\t\")\n",
    "weightdf.columns=['s(R)','weights']\n",
    "weightdf['bin_index'] = pd.cut(weightdf['s(R)'],bins=20,labels=[i for i in range(20)]) \n",
    "weightdf"
   ]
  },
  {
   "cell_type": "code",
   "execution_count": 45,
   "id": "mediterranean-ranch",
   "metadata": {},
   "outputs": [
    {
     "data": {
      "text/plain": [
       "[0, 1, 2, 3, 4, 5, 6, 7, 8, 9, 10, 11, 12, 13, 14, 15, 16, 17, 18, 19]"
      ]
     },
     "execution_count": 45,
     "metadata": {},
     "output_type": "execute_result"
    }
   ],
   "source": [
    "bin_list=list(weightdf['bin_index'].unique())\n",
    "bin_list"
   ]
  },
  {
   "cell_type": "code",
   "execution_count": 46,
   "id": "criminal-baltimore",
   "metadata": {},
   "outputs": [
    {
     "data": {
      "text/plain": [
       "array([ 10,  20,  30,  40,  50,  60,  70,  80,  90, 100, 110, 120, 130,\n",
       "       140, 150, 160, 170, 180, 190, 200, 210, 220, 230, 240, 250, 260,\n",
       "       270, 280, 290, 300, 310, 320, 330, 340, 350, 360, 370, 380, 390,\n",
       "       400, 410, 420, 430, 440, 450, 460, 470, 480, 490, 500])"
      ]
     },
     "execution_count": 46,
     "metadata": {},
     "output_type": "execute_result"
    }
   ],
   "source": [
    "block_size = np.array([i for i in range(10,510,10)])\n",
    "block_size"
   ]
  },
  {
   "cell_type": "code",
   "execution_count": 47,
   "id": "stupid-crowd",
   "metadata": {},
   "outputs": [
    {
     "data": {
      "text/plain": [
       "array([1333,  666,  444,  333,  266,  222,  190,  166,  148,  133,  121,\n",
       "        111,  102,   95,   88,   83,   78,   74,   70,   66,   63,   60,\n",
       "         57,   55,   53,   51,   49,   47,   45,   44,   43,   41,   40,\n",
       "         39,   38,   37,   36,   35,   34,   33,   32,   31,   31,   30,\n",
       "         29,   28,   28,   27,   27,   26])"
      ]
     },
     "execution_count": 47,
     "metadata": {},
     "output_type": "execute_result"
    }
   ],
   "source": [
    "nblocks = np.array(len(data)/block_size).astype(int)\n",
    "nblocks"
   ]
  },
  {
   "cell_type": "code",
   "execution_count": 48,
   "id": "difficult-worth",
   "metadata": {},
   "outputs": [
    {
     "data": {
      "text/plain": [
       "50"
      ]
     },
     "execution_count": 48,
     "metadata": {},
     "output_type": "execute_result"
    }
   ],
   "source": [
    "xbar_xbarsq=[]\n",
    "for i in range(0,len(nblocks)):\n",
    "    xbar=pd.Series(index=bin_list,dtype=float,data=0)\n",
    "    xbarsq=pd.Series(index=bin_list,dtype=float,data=0)\n",
    "    for nblock in range(0, nblocks[i]):\n",
    "        start = nblock * block_size[i]\n",
    "        end = start + block_size[i]\n",
    "        weightcopy=weightdf.copy()\n",
    "        grp=weightcopy[start:end].groupby('bin_index')\n",
    "        block_ave=grp['weights'].sum()/block_size[i]\n",
    "        ind_list=list(block_ave.index)\n",
    "        for ind in range(len(ind_list)):\n",
    "            xbar[ind]+=block_ave[ind]\n",
    "            xbarsq[ind]+=block_ave[ind]*block_ave[ind]\n",
    "    xbar_xbarsq.append((nblocks[i],block_size[i],xbar,xbarsq))\n",
    "        \n",
    "length=len(xbar_xbarsq)\n",
    "length"
   ]
  },
  {
   "cell_type": "code",
   "execution_count": 60,
   "id": "tested-amplifier",
   "metadata": {},
   "outputs": [
    {
     "data": {
      "text/plain": [
       "<AxesSubplot:xlabel='s(R)'>"
      ]
     },
     "execution_count": 60,
     "metadata": {},
     "output_type": "execute_result"
    },
    {
     "data": {
      "image/png": "[encoded data removed]",
      "text/plain": [
       "<Figure size 432x288 with 1 Axes>"
      ]
     },
     "metadata": {
      "needs_background": "light"
     },
     "output_type": "display_data"
    }
   ],
   "source": [
    "sR_series = pd.Series(dtype=float,data=[(minS + (float(i) * bin_width)) for i in range(len(bin_list))])\n",
    "for i in range(length):\n",
    "    numblock=xbar_xbarsq[i][0]\n",
    "    blocksize=xbar_xbarsq[i][1]\n",
    "    result=pd.DataFrame()\n",
    "    result['s(R)']=sR_series\n",
    "    result['Weight']=xbar_xbarsq[i][2]/blocksize\n",
    "    result['Free Energy']=-kbt * np.log(result['Weight'])\n",
    "    result['<x**2>']= (xbar_xbarsq[i][3]-result['Weight']**2)/(blocksize-1)\n",
    "    result['error']=kbt*(np.sqrt(result['<x**2>']/blocksize))/result['Weight']\n",
    "    outdf=result[['s(R)','Free Energy','error']].round(2)\n",
    "    outdf.to_csv(f'fes{blocksize}.dat',sep=\"\\t\",index=False)\n",
    "outdf.plot('s(R)','Free Energy',yerr='error',ecolor='red')"
   ]
  },
  {
   "cell_type": "code",
   "execution_count": 50,
   "id": "suited-philip",
   "metadata": {},
   "outputs": [],
   "source": [
    "%%bash\n",
    "echo > err.blocks\n",
    "for i in {10..500..10}\n",
    "do\n",
    " a=$(awk '{tot+=$3}END{print tot/NR}' fes\"$i\".dat)\n",
    " echo $i $a >> err.blocks\n",
    "done"
   ]
  },
  {
   "cell_type": "code",
   "execution_count": 51,
   "id": "multiple-flour",
   "metadata": {},
   "outputs": [
    {
     "data": {
      "text/plain": [
       "[<matplotlib.lines.Line2D at 0x7f893cb0cf50>]"
      ]
     },
     "execution_count": 51,
     "metadata": {},
     "output_type": "execute_result"
    },
    {
     "data": {
      "image/png": "[encoded data removed]",
      "text/plain": [
       "<Figure size 432x288 with 1 Axes>"
      ]
     },
     "metadata": {
      "needs_background": "light"
     },
     "output_type": "display_data"
    }
   ],
   "source": [
    "df=pd.read_csv(\"err.blocks\",sep=\"\\s+\",header=None,skiprows=1)\n",
    "plt.plot(df[0],df[1])"
   ]
  },
  {
   "cell_type": "code",
   "execution_count": null,
   "id": "cathedral-library",
   "metadata": {},
   "outputs": [],
   "source": []
  }
 ],
 "metadata": {
  "kernelspec": {
   "display_name": "Python 3",
   "language": "python",
   "name": "python3"
  },
  "language_info": {
   "codemirror_mode": {
    "name": "ipython",
    "version": 3
   },
   "file_extension": ".py",
   "mimetype": "text/x-python",
   "name": "python",
   "nbconvert_exporter": "python",
   "pygments_lexer": "ipython3",
   "version": "3.7.9"
  }
 },
 "nbformat": 4,
 "nbformat_minor": 5
}
